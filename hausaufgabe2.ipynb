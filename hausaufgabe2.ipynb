{
 "cells": [
  {
   "cell_type": "code",
   "id": "initial_id",
   "metadata": {
    "collapsed": true,
    "ExecuteTime": {
     "end_time": "2025-10-21T21:11:28.542965Z",
     "start_time": "2025-10-21T21:11:28.539852Z"
    }
   },
   "source": [
    "#Hausaufgbae 2\n",
    "x = 4 # x hat den Datentyp int (integer)\n",
    "s = \"Was ist der Sinn des Lebens?\" # s hat den Datentyp str (String)\n",
    "type(x), type(s) # mit type() können wir uns den Datentyp einer Variable ausgeben lassen"
   ],
   "outputs": [
    {
     "data": {
      "text/plain": [
       "(int, str)"
      ]
     },
     "execution_count": 1,
     "metadata": {},
     "output_type": "execute_result"
    }
   ],
   "execution_count": 1
  },
  {
   "metadata": {
    "ExecuteTime": {
     "end_time": "2025-10-21T21:11:53.297406Z",
     "start_time": "2025-10-21T21:11:53.294421Z"
    }
   },
   "cell_type": "code",
   "source": [
    "\n",
    "\n",
    "s = 5\n",
    "type(s)\n",
    "\n"
   ],
   "id": "ae2fc111ccf67097",
   "outputs": [
    {
     "data": {
      "text/plain": [
       "int"
      ]
     },
     "execution_count": 2,
     "metadata": {},
     "output_type": "execute_result"
    }
   ],
   "execution_count": 2
  },
  {
   "metadata": {
    "ExecuteTime": {
     "end_time": "2025-10-22T06:27:05.479474Z",
     "start_time": "2025-10-22T06:27:05.474241Z"
    }
   },
   "cell_type": "code",
   "source": [
    "#1.1. Aufgabe: Lassen Sie sich den Datentyp von s erneut ausgeben. Welchen Datentyp hat die Variable jetzt?\n",
    "#A: integer\n",
    "\n",
    "\n",
    "\n",
    "x = str(42)    # x will be '42'\n",
    "y = int(42)    # y will be 42\n",
    "z = float(42)  # z will be 42.0\n",
    "\n",
    "\n",
    "#Lassen Sie sich x, y, z mit Hilfe des print()-Befehls ausgeben.\n",
    "print(x,y,z)"
   ],
   "id": "a33758b5d67066ee",
   "outputs": [
    {
     "name": "stdout",
     "output_type": "stream",
     "text": [
      "42 42 42.0\n"
     ]
    }
   ],
   "execution_count": 3
  },
  {
   "metadata": {
    "ExecuteTime": {
     "end_time": "2025-10-22T06:29:32.407875Z",
     "start_time": "2025-10-22T06:29:32.404200Z"
    }
   },
   "cell_type": "code",
   "source": [
    "#3.1 Aufgabe: Betrachten Sie die folgenden zwei #Code-Zeilen. Was geschieht mit den Elementen aus der #Liste fruits im zweiten Schritt?\n",
    "\n",
    "\n",
    "fruits = ['apple', 'banana', 'orange', 'raspberry', 'apple', 'lemon']\n",
    "print(fruits)\n"
   ],
   "id": "4e9e76bfb8f74dc8",
   "outputs": [
    {
     "name": "stdout",
     "output_type": "stream",
     "text": [
      "['apple', 'banana', 'orange', 'raspberry', 'apple', 'lemon']\n"
     ]
    }
   ],
   "execution_count": 4
  },
  {
   "metadata": {
    "ExecuteTime": {
     "end_time": "2025-10-22T06:29:45.057412Z",
     "start_time": "2025-10-22T06:29:45.054972Z"
    }
   },
   "cell_type": "code",
   "source": "fruits = set(fruits)",
   "id": "58a5c92e3a7959e8",
   "outputs": [],
   "execution_count": 5
  },
  {
   "metadata": {
    "ExecuteTime": {
     "end_time": "2025-10-22T06:29:49.636972Z",
     "start_time": "2025-10-22T06:29:49.633389Z"
    }
   },
   "cell_type": "code",
   "source": "fruits",
   "id": "2f73df5da10fb0ec",
   "outputs": [
    {
     "data": {
      "text/plain": [
       "{'apple', 'banana', 'lemon', 'orange', 'raspberry'}"
      ]
     },
     "execution_count": 6,
     "metadata": {},
     "output_type": "execute_result"
    }
   ],
   "execution_count": 6
  },
  {
   "metadata": {},
   "cell_type": "code",
   "outputs": [],
   "execution_count": null,
   "source": "#A: Aus der Liste wird ein Set und alle Elemente sind einmalig\n",
   "id": "9a653725abbdcfa8"
  },
  {
   "metadata": {
    "ExecuteTime": {
     "end_time": "2025-10-22T06:31:45.653243Z",
     "start_time": "2025-10-22T06:31:45.649544Z"
    }
   },
   "cell_type": "code",
   "source": [
    "fruits = ['apple', 'banana', 1, True, 'apple', 'lemon']\n",
    "fruits = set(fruits)\n",
    "fruits"
   ],
   "id": "c661a8d38f99c8e3",
   "outputs": [
    {
     "data": {
      "text/plain": [
       "{1, 'apple', 'banana', 'lemon'}"
      ]
     },
     "execution_count": 7,
     "metadata": {},
     "output_type": "execute_result"
    }
   ],
   "execution_count": 7
  },
  {
   "metadata": {},
   "cell_type": "code",
   "outputs": [],
   "execution_count": null,
   "source": [
    "#A True ist weg und Reihenfolge weg und einmalig\n",
    "#True verschwindet, weil 1 als True gewertet wird und True damit ein Duplikat ist."
   ],
   "id": "8ea7782809bc736a"
  },
  {
   "metadata": {},
   "cell_type": "code",
   "outputs": [],
   "execution_count": null,
   "source": [
    "# 3.3 Aufgabe:\n",
    "#Erstellen Sie ein dict drei Ihrer Lieblingsbücher, -serien oder filme.\n",
    "#Die keys sollen einstellige Integer-Werte von 1 bis 3 sein, die values die Titel als Strings."
   ],
   "id": "24f97d59380c4d6c"
  },
  {
   "metadata": {
    "ExecuteTime": {
     "end_time": "2025-10-22T06:42:54.448624Z",
     "start_time": "2025-10-22T06:42:54.443107Z"
    }
   },
   "cell_type": "code",
   "source": [
    "dict = {\n",
    "    1: \"Der Ursprung der Welt\",\n",
    "    2: \"Der Stein der Weisen\",\n",
    "    3: \"Rette, rette, Fahrradkette\"\n",
    "}\n",
    "#werte ausgeben lassen\n",
    "for key, val in dict.items():\n",
    "    print(key, val)"
   ],
   "id": "bed40c300087b5f9",
   "outputs": [
    {
     "name": "stdout",
     "output_type": "stream",
     "text": [
      "1 Der Ursprung der Welt\n",
      "2 Der Stein der Weisen\n",
      "3 Rette, rette, Fahrradkette\n"
     ]
    }
   ],
   "execution_count": 8
  },
  {
   "metadata": {
    "ExecuteTime": {
     "end_time": "2025-10-22T06:45:31.946860Z",
     "start_time": "2025-10-22T06:45:31.942869Z"
    }
   },
   "cell_type": "code",
   "source": [
    "first_name = \"Alice\"\n",
    "age = 42\n",
    "\n",
    "print(f\"My name is {first_name} and I'm {age} years old.\")\n",
    "\n",
    "percentage = 99.999\n",
    "adjective = 'nice'\n",
    "print(f\"I believe that {percentage: .2f} of people are {adjective.upper()}\")"
   ],
   "id": "aa78ae39adb03cec",
   "outputs": [
    {
     "name": "stdout",
     "output_type": "stream",
     "text": [
      "My name is Alice and I'm 42 years old.\n",
      "I believe that  100.00 of people are NICE\n"
     ]
    }
   ],
   "execution_count": 9
  },
  {
   "metadata": {},
   "cell_type": "code",
   "outputs": [],
   "execution_count": null,
   "source": [
    "#4.1 Aufgabe:\n",
    "#Passen Sie den Code aus der vorherigen Zelle so an, dass die Prozentzahl mit 3 Nachkommastellen ausgegeben wird.\n",
    "#Wählen Sie außerdem ein anderes Adjektiv, um die Satzbedeutung zu verändern."
   ],
   "id": "d182c8bd19005f3f"
  },
  {
   "metadata": {
    "ExecuteTime": {
     "end_time": "2025-10-22T06:50:05.165950Z",
     "start_time": "2025-10-22T06:50:05.163490Z"
    }
   },
   "cell_type": "code",
   "source": [
    "adjective = 'NICEE'\n",
    "print(f\"I believe that {percentage} of people are {adjective.upper()}\")"
   ],
   "id": "2685d4a869bfb089",
   "outputs": [
    {
     "name": "stdout",
     "output_type": "stream",
     "text": [
      "I believe that 99.999 of people are NICEE\n"
     ]
    }
   ],
   "execution_count": 12
  },
  {
   "metadata": {
    "ExecuteTime": {
     "end_time": "2025-10-22T06:53:26.635877Z",
     "start_time": "2025-10-22T06:53:26.631911Z"
    }
   },
   "cell_type": "code",
   "source": [
    "#5.1 Aufgabe:\n",
    "# Führen Sie den untenstehenden Code aus - was passiert?\n",
    "# Korrigieren Sie den Code, sodass er funktioniert.\n",
    "\n",
    "gummi_bear_count = 10\n",
    "\n",
    "while gummi_bear_count > 0:\n",
    "    print(f\"{gummi_bear_count} gummi bears left.\")\n",
    "    print(\"Eating a gummi bear...\")\n",
    "    gummi_bear_count -= 1\n",
    "print(\"Oh no! No more gummi bears left :(\")\n",
    "\n"
   ],
   "id": "f3543a7c42f9e840",
   "outputs": [
    {
     "name": "stdout",
     "output_type": "stream",
     "text": [
      "10 gummi bears left.\n",
      "Eating a gummi bear...\n",
      "9 gummi bears left.\n",
      "Eating a gummi bear...\n",
      "8 gummi bears left.\n",
      "Eating a gummi bear...\n",
      "7 gummi bears left.\n",
      "Eating a gummi bear...\n",
      "6 gummi bears left.\n",
      "Eating a gummi bear...\n",
      "5 gummi bears left.\n",
      "Eating a gummi bear...\n",
      "4 gummi bears left.\n",
      "Eating a gummi bear...\n",
      "3 gummi bears left.\n",
      "Eating a gummi bear...\n",
      "2 gummi bears left.\n",
      "Eating a gummi bear...\n",
      "1 gummi bears left.\n",
      "Eating a gummi bear...\n",
      "Oh no! No more gummi bears left :(\n"
     ]
    }
   ],
   "execution_count": 18
  },
  {
   "metadata": {},
   "cell_type": "code",
   "outputs": [],
   "execution_count": null,
   "source": [
    "# 6.1 Aufgabe:\n",
    "#Erzeugen Sie eine Variable word1 mit dem Wert 'Joseph'.\n",
    "#Nutzen Sie einen geeigneten Zuweisungsoperator, um den Wert der Variable in 'Joseph Weizenbaum' zu ändern.\n",
    "#Kontrollieren Sie das Ergebnis mit der print()-Funktion."
   ],
   "id": "3178a1bf0ed43227"
  },
  {
   "metadata": {
    "ExecuteTime": {
     "end_time": "2025-10-22T06:57:04.538443Z",
     "start_time": "2025-10-22T06:57:04.535992Z"
    }
   },
   "cell_type": "code",
   "source": [
    "word1 = 'Joseph'\n",
    "word1 += ' Weizenbaum'\n",
    "print(word1)"
   ],
   "id": "e4934ba7d1ca86ab",
   "outputs": [
    {
     "name": "stdout",
     "output_type": "stream",
     "text": [
      "Joseph Weizenbaum\n"
     ]
    }
   ],
   "execution_count": 21
  },
  {
   "metadata": {
    "ExecuteTime": {
     "end_time": "2025-10-22T07:01:05.954359Z",
     "start_time": "2025-10-22T07:01:05.951714Z"
    }
   },
   "cell_type": "code",
   "source": [
    "pets = ['cat', 'dog', 'pony']\n",
    "x = 'dog'\n",
    "y = 'sloth'\n",
    "print(x in pets)\n",
    "#6.2 Aufgabe: Schreiben Sie einen Ausdruck, der zurückgibt, ob sich die Variable y nicht in der Liste pets befindet."
   ],
   "id": "85715a5f5cbd508e",
   "outputs": [
    {
     "name": "stdout",
     "output_type": "stream",
     "text": [
      "True\n"
     ]
    }
   ],
   "execution_count": 23
  },
  {
   "metadata": {
    "ExecuteTime": {
     "end_time": "2025-10-22T07:01:09.048057Z",
     "start_time": "2025-10-22T07:01:09.043866Z"
    }
   },
   "cell_type": "code",
   "source": "y not in pets",
   "id": "6214189c5ac18bb0",
   "outputs": [
    {
     "data": {
      "text/plain": [
       "True"
      ]
     },
     "execution_count": 24,
     "metadata": {},
     "output_type": "execute_result"
    }
   ],
   "execution_count": 24
  },
  {
   "metadata": {},
   "cell_type": "code",
   "outputs": [],
   "execution_count": null,
   "source": [
    "(1 - 1) + (10  - 10) # Ausdrücke in Klammern werden zuerst ausgewertet\n",
    "\n",
    "3 - 10 * 5 # Multiplikation wird vor Subtraktion ausgeführt\n",
    "\n",
    "#6.3 Aufgabe: Verändern Sie die vorherige Zeile so, dass zuerst die Subtraktion ausgeführt wird, dann die Multiplikation."
   ],
   "id": "97396b99ddb95ee3"
  },
  {
   "metadata": {
    "ExecuteTime": {
     "end_time": "2025-10-22T07:03:40.907936Z",
     "start_time": "2025-10-22T07:03:40.904631Z"
    }
   },
   "cell_type": "code",
   "source": "(3-10) *5",
   "id": "27bcde85ee48959a",
   "outputs": [
    {
     "data": {
      "text/plain": [
       "-35"
      ]
     },
     "execution_count": 25,
     "metadata": {},
     "output_type": "execute_result"
    }
   ],
   "execution_count": 25
  },
  {
   "metadata": {},
   "cell_type": "code",
   "outputs": [],
   "execution_count": null,
   "source": [
    "is_raining = True\n",
    "is_sunny = False\n",
    "\n",
    "if is_raining:\n",
    "    print(\"Don't forget to take your umbrella!\")\n",
    "elif is_sunny:\n",
    "    print(\"Don't forget to take your sun glasses!\")\n",
    "else:\n",
    "    print(\"Have a nice day!\")"
   ],
   "id": "73af6ab0cf57607d"
  },
  {
   "metadata": {},
   "cell_type": "code",
   "outputs": [],
   "execution_count": null,
   "source": [
    "#7.1 Aufgabe:\n",
    "#Fügen Sie dem obigen Code eine weitere Boolesche Variable für wechselhaftes Wetter hinzu.\n",
    "#   Passen Sie den Code so an, dass er für den Fall von wechselhaftem Wetter ebenfalls eine passende Aufforderung ausgibt.\n"
   ],
   "id": "969f735fe0774aea"
  },
  {
   "metadata": {
    "ExecuteTime": {
     "end_time": "2025-10-22T07:19:40.519701Z",
     "start_time": "2025-10-22T07:19:40.516104Z"
    }
   },
   "cell_type": "code",
   "source": [
    "is_raining = True\n",
    "is_sunny = False\n",
    "is_windy = True\n",
    "\n",
    "if is_windy:\n",
    "    print(\"Es ist windig, nehm lieber deine Windjacke mit\")\n",
    "if is_raining:\n",
    "    print(\"Don't forget to take your umbrella!\")\n",
    "elif is_sunny:\n",
    "    print(\"Don't forget to take your sun glasses!\")\n",
    "else:\n",
    "    print(\"Have a nice day!\")"
   ],
   "id": "31504008a4a73831",
   "outputs": [
    {
     "name": "stdout",
     "output_type": "stream",
     "text": [
      "Es ist windig, nehm lieber deine Windjacke mit\n",
      "Don't forget to take your umbrella!\n"
     ]
    }
   ],
   "execution_count": 39
  },
  {
   "metadata": {
    "ExecuteTime": {
     "end_time": "2025-10-22T07:18:55.488395Z",
     "start_time": "2025-10-22T07:18:55.486123Z"
    }
   },
   "cell_type": "code",
   "source": "#Frage es arbeitet einfach nur das erste ab wenn es true ist..was ist wenn es sonnig und windig ist? Hab es anders als Lösung.",
   "id": "ab8a1e925aeb8f4b",
   "outputs": [],
   "execution_count": 35
  }
 ],
 "metadata": {
  "kernelspec": {
   "display_name": "Python 3",
   "language": "python",
   "name": "python3"
  },
  "language_info": {
   "codemirror_mode": {
    "name": "ipython",
    "version": 2
   },
   "file_extension": ".py",
   "mimetype": "text/x-python",
   "name": "python",
   "nbconvert_exporter": "python",
   "pygments_lexer": "ipython2",
   "version": "2.7.6"
  }
 },
 "nbformat": 4,
 "nbformat_minor": 5
}

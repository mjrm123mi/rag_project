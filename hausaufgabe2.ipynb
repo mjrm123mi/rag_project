{
 "cells": [
  {
   "metadata": {},
   "cell_type": "raw",
   "source": "import pandas as pd",
   "id": "433c78ac0298097f"
  },
  {
   "cell_type": "code",
   "id": "initial_id",
   "metadata": {
    "collapsed": true,
    "ExecuteTime": {
     "end_time": "2025-10-29T13:55:46.008655Z",
     "start_time": "2025-10-29T13:55:41.616843Z"
    }
   },
   "source": [
    "# pandas importieren, um es nutzen zu können\n",
    "\n",
    "\n",
    "#Hausaufgbae 2\n",
    "x = 4 # x hat den Datentyp int (integer)\n",
    "s = \"Was ist der Sinn des Lebens?\" # s hat den Datentyp str (String)\n",
    "type(x), type(s) # mit type() können wir uns den Datentyp einer Variable ausgeben lassen"
   ],
   "outputs": [
    {
     "data": {
      "text/plain": [
       "(int, str)"
      ]
     },
     "execution_count": 55,
     "metadata": {},
     "output_type": "execute_result"
    }
   ],
   "execution_count": 55
  },
  {
   "metadata": {
    "ExecuteTime": {
     "end_time": "2025-10-21T21:11:53.297406Z",
     "start_time": "2025-10-21T21:11:53.294421Z"
    }
   },
   "cell_type": "code",
   "source": [
    "\n",
    "\n",
    "s = 5\n",
    "type(s)\n",
    "\n"
   ],
   "id": "ae2fc111ccf67097",
   "outputs": [
    {
     "data": {
      "text/plain": [
       "int"
      ]
     },
     "execution_count": 2,
     "metadata": {},
     "output_type": "execute_result"
    }
   ],
   "execution_count": 2
  },
  {
   "metadata": {
    "ExecuteTime": {
     "end_time": "2025-10-22T06:27:05.479474Z",
     "start_time": "2025-10-22T06:27:05.474241Z"
    }
   },
   "cell_type": "code",
   "source": [
    "#1.1. Aufgabe: Lassen Sie sich den Datentyp von s erneut ausgeben. Welchen Datentyp hat die Variable jetzt?\n",
    "#A: integer\n",
    "\n",
    "\n",
    "\n",
    "x = str(42)    # x will be '42'\n",
    "y = int(42)    # y will be 42\n",
    "z = float(42)  # z will be 42.0\n",
    "\n",
    "\n",
    "#Lassen Sie sich x, y, z mit Hilfe des print()-Befehls ausgeben.\n",
    "print(x,y,z)"
   ],
   "id": "a33758b5d67066ee",
   "outputs": [
    {
     "name": "stdout",
     "output_type": "stream",
     "text": [
      "42 42 42.0\n"
     ]
    }
   ],
   "execution_count": 3
  },
  {
   "metadata": {
    "ExecuteTime": {
     "end_time": "2025-10-22T06:29:32.407875Z",
     "start_time": "2025-10-22T06:29:32.404200Z"
    }
   },
   "cell_type": "code",
   "source": [
    "#3.1 Aufgabe: Betrachten Sie die folgenden zwei #Code-Zeilen. Was geschieht mit den Elementen aus der #Liste fruits im zweiten Schritt?\n",
    "\n",
    "\n",
    "fruits = ['apple', 'banana', 'orange', 'raspberry', 'apple', 'lemon']\n",
    "print(fruits)\n"
   ],
   "id": "4e9e76bfb8f74dc8",
   "outputs": [
    {
     "name": "stdout",
     "output_type": "stream",
     "text": [
      "['apple', 'banana', 'orange', 'raspberry', 'apple', 'lemon']\n"
     ]
    }
   ],
   "execution_count": 4
  },
  {
   "metadata": {
    "ExecuteTime": {
     "end_time": "2025-10-22T06:29:45.057412Z",
     "start_time": "2025-10-22T06:29:45.054972Z"
    }
   },
   "cell_type": "code",
   "source": "fruits = set(fruits)",
   "id": "58a5c92e3a7959e8",
   "outputs": [],
   "execution_count": 5
  },
  {
   "metadata": {
    "ExecuteTime": {
     "end_time": "2025-10-22T06:29:49.636972Z",
     "start_time": "2025-10-22T06:29:49.633389Z"
    }
   },
   "cell_type": "code",
   "source": "fruits",
   "id": "2f73df5da10fb0ec",
   "outputs": [
    {
     "data": {
      "text/plain": [
       "{'apple', 'banana', 'lemon', 'orange', 'raspberry'}"
      ]
     },
     "execution_count": 6,
     "metadata": {},
     "output_type": "execute_result"
    }
   ],
   "execution_count": 6
  },
  {
   "metadata": {},
   "cell_type": "code",
   "outputs": [],
   "execution_count": null,
   "source": "#A: Aus der Liste wird ein Set und alle Elemente sind einmalig\n",
   "id": "9a653725abbdcfa8"
  },
  {
   "metadata": {
    "ExecuteTime": {
     "end_time": "2025-10-22T06:31:45.653243Z",
     "start_time": "2025-10-22T06:31:45.649544Z"
    }
   },
   "cell_type": "code",
   "source": [
    "fruits = ['apple', 'banana', 1, True, 'apple', 'lemon']\n",
    "fruits = set(fruits)\n",
    "fruits"
   ],
   "id": "c661a8d38f99c8e3",
   "outputs": [
    {
     "data": {
      "text/plain": [
       "{1, 'apple', 'banana', 'lemon'}"
      ]
     },
     "execution_count": 7,
     "metadata": {},
     "output_type": "execute_result"
    }
   ],
   "execution_count": 7
  },
  {
   "metadata": {},
   "cell_type": "code",
   "outputs": [],
   "execution_count": null,
   "source": [
    "#A True ist weg und Reihenfolge weg und einmalig\n",
    "#True verschwindet, weil 1 als True gewertet wird und True damit ein Duplikat ist."
   ],
   "id": "8ea7782809bc736a"
  },
  {
   "metadata": {},
   "cell_type": "code",
   "outputs": [],
   "execution_count": null,
   "source": [
    "# 3.3 Aufgabe:\n",
    "#Erstellen Sie ein dict drei Ihrer Lieblingsbücher, -serien oder filme.\n",
    "#Die keys sollen einstellige Integer-Werte von 1 bis 3 sein, die values die Titel als Strings."
   ],
   "id": "24f97d59380c4d6c"
  },
  {
   "metadata": {
    "ExecuteTime": {
     "end_time": "2025-10-22T06:42:54.448624Z",
     "start_time": "2025-10-22T06:42:54.443107Z"
    }
   },
   "cell_type": "code",
   "source": [
    "favorite_books = {\n",
    "    1: \"Der Ursprung der Welt\",\n",
    "    2: \"Der Stein der Weisen\",\n",
    "    3: \"Rette, rette, Fahrradkette\"\n",
    "}\n",
    "#werte ausgeben lassen\n",
    "for key, val in favorite_books.items():\n",
    "    print(key, val)"
   ],
   "id": "bed40c300087b5f9",
   "outputs": [
    {
     "name": "stdout",
     "output_type": "stream",
     "text": [
      "1 Der Ursprung der Welt\n",
      "2 Der Stein der Weisen\n",
      "3 Rette, rette, Fahrradkette\n"
     ]
    }
   ],
   "execution_count": 8
  },
  {
   "metadata": {
    "ExecuteTime": {
     "end_time": "2025-10-22T06:45:31.946860Z",
     "start_time": "2025-10-22T06:45:31.942869Z"
    }
   },
   "cell_type": "code",
   "source": [
    "first_name = \"Alice\"\n",
    "age = 42\n",
    "\n",
    "print(f\"My name is {first_name} and I'm {age} years old.\")\n",
    "\n",
    "percentage = 99.999\n",
    "adjective = 'nice'\n",
    "print(f\"I believe that {percentage: .2f} of people are {adjective.upper()}\")"
   ],
   "id": "aa78ae39adb03cec",
   "outputs": [
    {
     "name": "stdout",
     "output_type": "stream",
     "text": [
      "My name is Alice and I'm 42 years old.\n",
      "I believe that  100.00 of people are NICE\n"
     ]
    }
   ],
   "execution_count": 9
  },
  {
   "metadata": {},
   "cell_type": "code",
   "outputs": [],
   "execution_count": null,
   "source": [
    "#4.1 Aufgabe:\n",
    "#Passen Sie den Code aus der vorherigen Zelle so an, dass die Prozentzahl mit 3 Nachkommastellen ausgegeben wird.\n",
    "#Wählen Sie außerdem ein anderes Adjektiv, um die Satzbedeutung zu verändern."
   ],
   "id": "d182c8bd19005f3f"
  },
  {
   "metadata": {
    "ExecuteTime": {
     "end_time": "2025-10-22T06:50:05.165950Z",
     "start_time": "2025-10-22T06:50:05.163490Z"
    }
   },
   "cell_type": "code",
   "source": [
    "adjective = 'NICEE'\n",
    "print(f\"I believe that {percentage} of people are {adjective.upper()}\")"
   ],
   "id": "2685d4a869bfb089",
   "outputs": [
    {
     "name": "stdout",
     "output_type": "stream",
     "text": [
      "I believe that 99.999 of people are NICEE\n"
     ]
    }
   ],
   "execution_count": 12
  },
  {
   "metadata": {
    "ExecuteTime": {
     "end_time": "2025-10-22T06:53:26.635877Z",
     "start_time": "2025-10-22T06:53:26.631911Z"
    }
   },
   "cell_type": "code",
   "source": [
    "#5.1 Aufgabe:\n",
    "# Führen Sie den untenstehenden Code aus - was passiert?\n",
    "# Korrigieren Sie den Code, sodass er funktioniert.\n",
    "\n",
    "gummi_bear_count = 10\n",
    "\n",
    "while gummi_bear_count > 0:\n",
    "    print(f\"{gummi_bear_count} gummi bears left.\")\n",
    "    print(\"Eating a gummi bear...\")\n",
    "    gummi_bear_count -= 1\n",
    "print(\"Oh no! No more gummi bears left :(\")\n",
    "\n"
   ],
   "id": "f3543a7c42f9e840",
   "outputs": [
    {
     "name": "stdout",
     "output_type": "stream",
     "text": [
      "10 gummi bears left.\n",
      "Eating a gummi bear...\n",
      "9 gummi bears left.\n",
      "Eating a gummi bear...\n",
      "8 gummi bears left.\n",
      "Eating a gummi bear...\n",
      "7 gummi bears left.\n",
      "Eating a gummi bear...\n",
      "6 gummi bears left.\n",
      "Eating a gummi bear...\n",
      "5 gummi bears left.\n",
      "Eating a gummi bear...\n",
      "4 gummi bears left.\n",
      "Eating a gummi bear...\n",
      "3 gummi bears left.\n",
      "Eating a gummi bear...\n",
      "2 gummi bears left.\n",
      "Eating a gummi bear...\n",
      "1 gummi bears left.\n",
      "Eating a gummi bear...\n",
      "Oh no! No more gummi bears left :(\n"
     ]
    }
   ],
   "execution_count": 18
  },
  {
   "metadata": {},
   "cell_type": "code",
   "outputs": [],
   "execution_count": null,
   "source": [
    "# 6.1 Aufgabe:\n",
    "#Erzeugen Sie eine Variable word1 mit dem Wert 'Joseph'.\n",
    "#Nutzen Sie einen geeigneten Zuweisungsoperator, um den Wert der Variable in 'Joseph Weizenbaum' zu ändern.\n",
    "#Kontrollieren Sie das Ergebnis mit der print()-Funktion."
   ],
   "id": "3178a1bf0ed43227"
  },
  {
   "metadata": {
    "ExecuteTime": {
     "end_time": "2025-10-22T06:57:04.538443Z",
     "start_time": "2025-10-22T06:57:04.535992Z"
    }
   },
   "cell_type": "code",
   "source": [
    "word1 = 'Joseph'\n",
    "word1 += ' Weizenbaum'\n",
    "print(word1)"
   ],
   "id": "e4934ba7d1ca86ab",
   "outputs": [
    {
     "name": "stdout",
     "output_type": "stream",
     "text": [
      "Joseph Weizenbaum\n"
     ]
    }
   ],
   "execution_count": 21
  },
  {
   "metadata": {
    "ExecuteTime": {
     "end_time": "2025-10-22T07:01:05.954359Z",
     "start_time": "2025-10-22T07:01:05.951714Z"
    }
   },
   "cell_type": "code",
   "source": [
    "pets = ['cat', 'dog', 'pony']\n",
    "x = 'dog'\n",
    "y = 'sloth'\n",
    "print(x in pets)\n",
    "#6.2 Aufgabe: Schreiben Sie einen Ausdruck, der zurückgibt, ob sich die Variable y nicht in der Liste pets befindet."
   ],
   "id": "85715a5f5cbd508e",
   "outputs": [
    {
     "name": "stdout",
     "output_type": "stream",
     "text": [
      "True\n"
     ]
    }
   ],
   "execution_count": 23
  },
  {
   "metadata": {
    "ExecuteTime": {
     "end_time": "2025-10-22T07:01:09.048057Z",
     "start_time": "2025-10-22T07:01:09.043866Z"
    }
   },
   "cell_type": "code",
   "source": "y not in pets",
   "id": "6214189c5ac18bb0",
   "outputs": [
    {
     "data": {
      "text/plain": [
       "True"
      ]
     },
     "execution_count": 24,
     "metadata": {},
     "output_type": "execute_result"
    }
   ],
   "execution_count": 24
  },
  {
   "metadata": {},
   "cell_type": "code",
   "outputs": [],
   "execution_count": null,
   "source": [
    "(1 - 1) + (10  - 10) # Ausdrücke in Klammern werden zuerst ausgewertet\n",
    "\n",
    "3 - 10 * 5 # Multiplikation wird vor Subtraktion ausgeführt\n",
    "\n",
    "#6.3 Aufgabe: Verändern Sie die vorherige Zeile so, dass zuerst die Subtraktion ausgeführt wird, dann die Multiplikation."
   ],
   "id": "97396b99ddb95ee3"
  },
  {
   "metadata": {
    "ExecuteTime": {
     "end_time": "2025-10-22T07:03:40.907936Z",
     "start_time": "2025-10-22T07:03:40.904631Z"
    }
   },
   "cell_type": "code",
   "source": "(3-10) *5",
   "id": "27bcde85ee48959a",
   "outputs": [
    {
     "data": {
      "text/plain": [
       "-35"
      ]
     },
     "execution_count": 25,
     "metadata": {},
     "output_type": "execute_result"
    }
   ],
   "execution_count": 25
  },
  {
   "metadata": {},
   "cell_type": "code",
   "outputs": [],
   "execution_count": null,
   "source": [
    "is_raining = True\n",
    "is_sunny = False\n",
    "\n",
    "if is_raining:\n",
    "    print(\"Don't forget to take your umbrella!\")\n",
    "elif is_sunny:\n",
    "    print(\"Don't forget to take your sun glasses!\")\n",
    "else:\n",
    "    print(\"Have a nice day!\")"
   ],
   "id": "73af6ab0cf57607d"
  },
  {
   "metadata": {},
   "cell_type": "code",
   "outputs": [],
   "execution_count": null,
   "source": [
    "#7.1 Aufgabe:\n",
    "#Fügen Sie dem obigen Code eine weitere Boolesche Variable für wechselhaftes Wetter hinzu.\n",
    "#   Passen Sie den Code so an, dass er für den Fall von wechselhaftem Wetter ebenfalls eine passende Aufforderung ausgibt.\n"
   ],
   "id": "969f735fe0774aea"
  },
  {
   "metadata": {
    "ExecuteTime": {
     "end_time": "2025-10-22T07:19:40.519701Z",
     "start_time": "2025-10-22T07:19:40.516104Z"
    }
   },
   "cell_type": "code",
   "source": [
    "is_raining = True\n",
    "is_sunny = False\n",
    "is_windy = True\n",
    "\n",
    "if is_windy:\n",
    "    print(\"Es ist windig, nehm lieber deine Windjacke mit\")\n",
    "if is_raining:\n",
    "    print(\"Don't forget to take your umbrella!\")\n",
    "elif is_sunny:\n",
    "    print(\"Don't forget to take your sun glasses!\")\n",
    "else:\n",
    "    print(\"Have a nice day!\")"
   ],
   "id": "31504008a4a73831",
   "outputs": [
    {
     "name": "stdout",
     "output_type": "stream",
     "text": [
      "Es ist windig, nehm lieber deine Windjacke mit\n",
      "Don't forget to take your umbrella!\n"
     ]
    }
   ],
   "execution_count": 39
  },
  {
   "metadata": {
    "ExecuteTime": {
     "end_time": "2025-10-22T07:18:55.488395Z",
     "start_time": "2025-10-22T07:18:55.486123Z"
    }
   },
   "cell_type": "code",
   "source": "#FRAGE es arbeitet einfach nur das erste ab wenn es true ist..was ist wenn es sonnig und windig ist? Hab es anders als Lösung.",
   "id": "ab8a1e925aeb8f4b",
   "outputs": [],
   "execution_count": 35
  },
  {
   "metadata": {},
   "cell_type": "code",
   "outputs": [],
   "execution_count": null,
   "source": "#schleifen",
   "id": "4f3038356d2866a1"
  },
  {
   "metadata": {
    "ExecuteTime": {
     "end_time": "2025-10-23T21:08:33.584733Z",
     "start_time": "2025-10-23T21:08:33.582144Z"
    }
   },
   "cell_type": "code",
   "source": [
    "for word in ['the', 'brown', 'fox', 'jumps', 'over', 'the', 'lazy', 'dog']:\n",
    "    print(word)"
   ],
   "id": "14b89383ac360027",
   "outputs": [
    {
     "name": "stdout",
     "output_type": "stream",
     "text": [
      "the\n",
      "brown\n",
      "fox\n",
      "jumps\n",
      "over\n",
      "the\n",
      "lazy\n",
      "dog\n"
     ]
    }
   ],
   "execution_count": 1
  },
  {
   "metadata": {
    "ExecuteTime": {
     "end_time": "2025-10-23T21:09:13.680646Z",
     "start_time": "2025-10-23T21:09:13.675740Z"
    }
   },
   "cell_type": "code",
   "source": [
    "# Beachte: Der obere Wert wird exkludiert.\n",
    "for x in range(4):\n",
    "    print(x)"
   ],
   "id": "493e52560e12c2a3",
   "outputs": [
    {
     "name": "stdout",
     "output_type": "stream",
     "text": [
      "0\n",
      "1\n",
      "2\n",
      "3\n"
     ]
    }
   ],
   "execution_count": 2
  },
  {
   "metadata": {
    "ExecuteTime": {
     "end_time": "2025-10-23T21:14:30.665543Z",
     "start_time": "2025-10-23T21:14:30.661664Z"
    }
   },
   "cell_type": "code",
   "source": [
    "buecher = {\n",
    "    1: 'AlgoDat',\n",
    "    2: 'Prog',\n",
    "    3: 'DataAnalytics'\n",
    "}\n",
    "\n",
    "for key, value in buecher.items():\n",
    "    print(key,value)\n"
   ],
   "id": "19317eed46fb1541",
   "outputs": [
    {
     "name": "stdout",
     "output_type": "stream",
     "text": [
      "1 AlgoDat\n",
      "2 Prog\n",
      "3 DataAnalytics\n"
     ]
    }
   ],
   "execution_count": 3
  },
  {
   "metadata": {
    "ExecuteTime": {
     "end_time": "2025-10-23T21:18:05.411249Z",
     "start_time": "2025-10-23T21:18:05.408317Z"
    }
   },
   "cell_type": "code",
   "source": [
    "buchstaben = ['a', 'd', 'b']\n",
    "print([c for c in buchstaben])"
   ],
   "id": "8b44acae678d33ac",
   "outputs": [
    {
     "name": "stdout",
     "output_type": "stream",
     "text": [
      "['a', 'd', 'b']\n"
     ]
    }
   ],
   "execution_count": 8
  },
  {
   "metadata": {
    "ExecuteTime": {
     "end_time": "2025-10-23T21:18:41.725895Z",
     "start_time": "2025-10-23T21:18:41.721216Z"
    }
   },
   "cell_type": "code",
   "source": [
    "i = 0\n",
    "while i < 5:\n",
    "    print(i)\n",
    "    i += 1"
   ],
   "id": "a1b627069e2acb1b",
   "outputs": [
    {
     "name": "stdout",
     "output_type": "stream",
     "text": [
      "0\n",
      "1\n",
      "2\n",
      "3\n",
      "4\n"
     ]
    }
   ],
   "execution_count": 9
  },
  {
   "metadata": {},
   "cell_type": "code",
   "outputs": [],
   "execution_count": null,
   "source": [
    "#Default Argumente in Funktionen\n",
    "#Mit Hilfe von Default-Argumenten können wir Standard-Werte für bestimmte Parameter festlegen. Beim Aufruf der Funktion muss dieser Wert nicht übergeben werden. Wir können ihn aber durch explizite Zuweisung überschreiben."
   ],
   "id": "620c0517d0362588"
  },
  {
   "metadata": {
    "ExecuteTime": {
     "end_time": "2025-10-23T21:26:50.515572Z",
     "start_time": "2025-10-23T21:26:50.511979Z"
    }
   },
   "cell_type": "code",
   "source": [
    "def calculate_total(item_prices, discount=False, discount_rate=0.2):\n",
    "    total = sum(item_prices)\n",
    "    if discount:\n",
    "        total = total - total * discount_rate\n",
    "    return total"
   ],
   "id": "34f36c10515f32b3",
   "outputs": [],
   "execution_count": 10
  },
  {
   "metadata": {
    "ExecuteTime": {
     "end_time": "2025-10-23T21:26:58.028871Z",
     "start_time": "2025-10-23T21:26:58.022653Z"
    }
   },
   "cell_type": "code",
   "source": [
    "item_prices = [10, 20, 70]\n",
    "calculate_total(item_prices)\n"
   ],
   "id": "774575e50507c9d3",
   "outputs": [
    {
     "data": {
      "text/plain": [
       "100"
      ]
     },
     "execution_count": 11,
     "metadata": {},
     "output_type": "execute_result"
    }
   ],
   "execution_count": 11
  },
  {
   "metadata": {},
   "cell_type": "code",
   "outputs": [],
   "execution_count": null,
   "source": "# 9.1 Aufgabe: Rufen Sie die Funktion calculate_total() so auf, dass ein Rabatt gewährt wird. Als nächstes verändern Sie den Rabatt so, dass 30% Rabatt gewährt werden.",
   "id": "f0a4154e0e748b4d"
  },
  {
   "metadata": {
    "ExecuteTime": {
     "end_time": "2025-10-23T21:28:51.678255Z",
     "start_time": "2025-10-23T21:28:51.674332Z"
    }
   },
   "cell_type": "code",
   "source": [
    "item_prices = [10, 20, 70]\n",
    "calculate_total(item_prices, True)"
   ],
   "id": "3585a942ddd438f2",
   "outputs": [
    {
     "data": {
      "text/plain": [
       "80.0"
      ]
     },
     "execution_count": 12,
     "metadata": {},
     "output_type": "execute_result"
    }
   ],
   "execution_count": 12
  },
  {
   "metadata": {
    "ExecuteTime": {
     "end_time": "2025-10-23T21:29:17.850859Z",
     "start_time": "2025-10-23T21:29:17.848089Z"
    }
   },
   "cell_type": "code",
   "source": [
    "item_prices = [10, 20, 70]\n",
    "calculate_total(item_prices, True, 0.3)"
   ],
   "id": "50399973c2e234b5",
   "outputs": [
    {
     "data": {
      "text/plain": [
       "70.0"
      ]
     },
     "execution_count": 13,
     "metadata": {},
     "output_type": "execute_result"
    }
   ],
   "execution_count": 13
  },
  {
   "metadata": {},
   "cell_type": "code",
   "outputs": [],
   "execution_count": null,
   "source": [
    "#9.2 Aufgabe:\n",
    "# Schreiben Sie eine eigene Funktion, die überprüft, ob ein Wort w in einer Liste von Tokens tokens enthalten ist.\n",
    "\n",
    "# Das Wort ebenso wie die Token-Liste werden der Funktion als Parameter übergeben.\n",
    "\n",
    "# Die Funktion soll als Rückgabewert True geben, wenn das Wort in der Token-Liste enthalten ist, sonst False.\n",
    "#\n",
    "# Zudem soll die Funktion eine entsprechende print()-Ausgabe liefern, wenn der Parameter print_result True ist.\n",
    "#\n",
    "# Der Default-Wert des Parameters print_result soll False sein.\n",
    "#\n",
    "# Denken Sie daran, einen Docstring hinzuzufügen.\n",
    "#\n",
    "# Rufen Sie die Funktion mit Beispielwerten auf."
   ],
   "id": "d3107e15c26be088"
  },
  {
   "metadata": {
    "ExecuteTime": {
     "end_time": "2025-10-23T21:58:32.318408Z",
     "start_time": "2025-10-23T21:58:32.314130Z"
    }
   },
   "cell_type": "code",
   "source": [
    "\"\"\"\"Die Methode checkt ob ein Wort in einer Tokenliste enthalten ist\"\"\"\n",
    "def wort_in_token_liste(wort, tokenliste):\n",
    "    for element in tokenliste:\n",
    "        if element == wort:\n",
    "            print(\"ist enthalten\")\n",
    "            return True\n",
    "    print(\"ist nicht enthalten\")\n",
    "    return False\n",
    "\n",
    "wort = \"w3\"\n",
    "tokenliste = [1, \"w3\", 3]\n",
    "print(wort_in_token_liste(wort, tokenliste))"
   ],
   "id": "162fa838e208e17d",
   "outputs": [
    {
     "name": "stdout",
     "output_type": "stream",
     "text": [
      "ist enthalten\n",
      "True\n"
     ]
    }
   ],
   "execution_count": 21
  },
  {
   "metadata": {},
   "cell_type": "markdown",
   "source": [
    "10. Klassen\n",
    "\n",
    "Python ermöglicht auch die Arbeit mit Klassen.\n",
    "\n",
    "Für unseren Kurs benötigen wir dies erstmal nicht, bei Bedarf schauen wir uns das zu einem späteren Zeitpunkt an.\n",
    "\n",
    "Hier ein kleines Beispiel:\n"
   ],
   "id": "b5c415bfbb01b130"
  },
  {
   "metadata": {
    "ExecuteTime": {
     "end_time": "2025-10-23T22:02:11.005534Z",
     "start_time": "2025-10-23T22:02:11.000439Z"
    }
   },
   "cell_type": "code",
   "source": [
    "class Person:\n",
    "  def __init__(self, name, age):\n",
    "    self.name = name\n",
    "    self.age = age\n",
    "\n",
    "  def print_name(self):\n",
    "    print(\"Hello my name is \" + self.name)\n",
    "\n",
    "p1 = Person(\"Ada\", 36)\n",
    "p1.print_name()\n",
    "\n"
   ],
   "id": "63e6bcbcfec0da06",
   "outputs": [
    {
     "name": "stdout",
     "output_type": "stream",
     "text": [
      "Hello my name is Ada\n"
     ]
    }
   ],
   "execution_count": 22
  },
  {
   "metadata": {
    "ExecuteTime": {
     "end_time": "2025-10-24T22:06:48.821435Z",
     "start_time": "2025-10-24T22:06:48.816095Z"
    }
   },
   "cell_type": "code",
   "source": [
    "#11.1 Aufgabe: Lassen sie sich das Element am Index 1 und am Index -1 der Liste colors ausgeben. Was passiert?\n",
    "\n",
    "colors = ['red', 'yellow', 'blue']\n",
    "colors[1]"
   ],
   "id": "82dfa83e1bb08bf0",
   "outputs": [
    {
     "data": {
      "text/plain": [
       "'yellow'"
      ]
     },
     "execution_count": 2,
     "metadata": {},
     "output_type": "execute_result"
    }
   ],
   "execution_count": 2
  },
  {
   "metadata": {
    "ExecuteTime": {
     "end_time": "2025-10-24T22:06:52.224347Z",
     "start_time": "2025-10-24T22:06:52.221Z"
    }
   },
   "cell_type": "code",
   "source": "colors[-1]",
   "id": "59eae2f605778dc8",
   "outputs": [
    {
     "data": {
      "text/plain": [
       "'blue'"
      ]
     },
     "execution_count": 3,
     "metadata": {},
     "output_type": "execute_result"
    }
   ],
   "execution_count": 3
  },
  {
   "metadata": {},
   "cell_type": "code",
   "outputs": [],
   "execution_count": null,
   "source": "#A: es wird das letzte Element angezeigt. hier blue",
   "id": "f7302b00b79ee9eb"
  },
  {
   "metadata": {},
   "cell_type": "markdown",
   "source": [
    "Index-Slicing\n",
    "\n",
    "Index-Bereiche können mit [start:stop:step] Syntax aufgerufen werden. Dabei müssen nicht immer alle Werte definiert werden.\n",
    "\n",
    "\n",
    "    start: Der Indexstart ( inklusiv).\n",
    "    stop: Der Index, vor dem das Slice endet ( exklusiv).\n",
    "     step: Optional – wie viele Schritte du von einem Element zum nächsten gehst (Standard ist 1).\n",
    "\n",
    "Du musst nicht alle drei Werte angeben; Python setzt dann Standardwerte:\n",
    "    [start:stop] holt alle Elemente von start bis vor stop.\n",
    "    [:stop] startet von Beginn der Sequenz.\n",
    "    [start:] geht bis zum Ende der Sequenz.\n",
    "    [:] nimmt die komplette Sequenz (praktisch für Kopien).\n",
    "    Negative Indizes: z.B. -1 zählt vom Ende der Sequenz rückwärts"
   ],
   "id": "880d10701e076688"
  },
  {
   "metadata": {
    "ExecuteTime": {
     "end_time": "2025-10-24T22:06:57.279353Z",
     "start_time": "2025-10-24T22:06:57.276116Z"
    }
   },
   "cell_type": "code",
   "source": [
    "#INDEXING: [start:stop:step]\n",
    "\n",
    "#11.2 Aufgabe: Beschreiben Sie mit eigenen Worten, was in den folgenden Zeilen passiert, bevor Sie sie ausführen.\n",
    "\n",
    "#colors = ['red', 'yellow', 'blue']\n",
    "\n",
    "#es startet von beginn und geht bis ende\n",
    "colors[:3]"
   ],
   "id": "3bcafe3105af54f4",
   "outputs": [
    {
     "data": {
      "text/plain": [
       "['red', 'yellow', 'blue']"
      ]
     },
     "execution_count": 4,
     "metadata": {},
     "output_type": "execute_result"
    }
   ],
   "execution_count": 4
  },
  {
   "metadata": {
    "ExecuteTime": {
     "end_time": "2025-10-24T22:10:22.550823Z",
     "start_time": "2025-10-24T22:10:22.548259Z"
    }
   },
   "cell_type": "code",
   "source": [
    "\n",
    "colors[1:3:2]"
   ],
   "id": "e91068e50f0ccb0c",
   "outputs": [
    {
     "data": {
      "text/plain": [
       "['yellow']"
      ]
     },
     "execution_count": 7,
     "metadata": {},
     "output_type": "execute_result"
    }
   ],
   "execution_count": 7
  },
  {
   "metadata": {
    "ExecuteTime": {
     "end_time": "2025-10-27T12:19:34.894780Z",
     "start_time": "2025-10-27T12:19:34.891636Z"
    }
   },
   "cell_type": "code",
   "source": [
    "#colors[3]\n",
    "#die ausgabe geht nicht weil out of range"
   ],
   "id": "90094998d8fe9ac2",
   "outputs": [],
   "execution_count": 1
  },
  {
   "metadata": {
    "ExecuteTime": {
     "end_time": "2025-10-24T22:11:04.553459Z",
     "start_time": "2025-10-24T22:11:04.548260Z"
    }
   },
   "cell_type": "code",
   "source": [
    "colors[::-1]\n",
    "#geht rückwärts"
   ],
   "id": "f7d330f186c4eda5",
   "outputs": [
    {
     "data": {
      "text/plain": [
       "['blue', 'yellow', 'red']"
      ]
     },
     "execution_count": 9,
     "metadata": {},
     "output_type": "execute_result"
    }
   ],
   "execution_count": 9
  },
  {
   "metadata": {},
   "cell_type": "code",
   "outputs": [],
   "execution_count": null,
   "source": [
    "#Elemente zu einer Liste hinzufügen mit insert(), append()\n",
    "\n",
    "colors = ['red', 'blue', 'yellow']\n",
    "colors.insert(0, 'apricot') # 0 = Index, an dem das neue Element hinzugefügt werden soll\n",
    "print(colors)"
   ],
   "id": "5f926b87ce52a7b6"
  },
  {
   "metadata": {
    "ExecuteTime": {
     "end_time": "2025-10-24T22:26:04.546333Z",
     "start_time": "2025-10-24T22:26:04.541181Z"
    }
   },
   "cell_type": "code",
   "source": [
    "colors = ['red', 'blue', 'yellow']\n",
    "colors.append('apricot')\n",
    "print(colors)"
   ],
   "id": "5c23f954ed6078f2",
   "outputs": [
    {
     "name": "stdout",
     "output_type": "stream",
     "text": [
      "['red', 'blue', 'yellow', 'apricot']\n"
     ]
    }
   ],
   "execution_count": 10
  },
  {
   "metadata": {},
   "cell_type": "code",
   "outputs": [],
   "execution_count": null,
   "source": [
    "#Was passiert,\n",
    "colors[1] # Zweites Element der Liste wird ausgeben\n",
    "colors[-1] # letztes Element der Liste wird ausgegeben"
   ],
   "id": "29ef4c328c41d02b"
  },
  {
   "metadata": {},
   "cell_type": "code",
   "outputs": [],
   "execution_count": null,
   "source": [
    "#Listen joinen\n",
    "\n",
    "numbers = [4, 1, 5]\n",
    "numbers2 = [4, 2, 3]\n",
    "numbers + numbers2\n",
    "\n"
   ],
   "id": "ee8aaa0dac603b9d"
  },
  {
   "metadata": {},
   "cell_type": "code",
   "outputs": [],
   "execution_count": null,
   "source": [
    "#Listen sortieren\n",
    "sorted(numbers + numbers2)"
   ],
   "id": "ff5d13eea20927a8"
  },
  {
   "metadata": {},
   "cell_type": "code",
   "outputs": [],
   "execution_count": null,
   "source": [
    "#12. Arbeiten mit Dictionaries\n",
    "\n",
    "#In Dictionaries können wir key-value Paare speichern.\n",
    "\n",
    "#Dictionaries sind ebenso wie Listen geordnetund veränderbar.\n",
    "\n",
    "#Aber anders als Listen erlauben Dictionaries keine Duplikate - die keys eines Dictionaries können also nicht doppelt vorkommen."
   ],
   "id": "5b6d2ef0483d4233"
  },
  {
   "metadata": {
    "ExecuteTime": {
     "end_time": "2025-10-29T12:47:30.901356Z",
     "start_time": "2025-10-29T12:47:30.899871Z"
    }
   },
   "cell_type": "code",
   "source": [
    "post = {\n",
    "    'post_id': 123456,\n",
    "    'creator': 'user95',\n",
    "    'text': 'Having such a great time here in Italy!',\n",
    "    'likes': 30\n",
    "}"
   ],
   "id": "6956aa2fcba14aef",
   "outputs": [],
   "execution_count": 2
  },
  {
   "metadata": {
    "ExecuteTime": {
     "end_time": "2025-10-29T12:47:32.688084Z",
     "start_time": "2025-10-29T12:47:32.683839Z"
    }
   },
   "cell_type": "code",
   "source": [
    "#Zugriff auf keys, values, items\n",
    "post.keys()"
   ],
   "id": "d73f86584d916903",
   "outputs": [
    {
     "data": {
      "text/plain": [
       "dict_keys(['post_id', 'creator', 'text', 'likes'])"
      ]
     },
     "execution_count": 3,
     "metadata": {},
     "output_type": "execute_result"
    }
   ],
   "execution_count": 3
  },
  {
   "metadata": {
    "ExecuteTime": {
     "end_time": "2025-10-29T12:47:38.045652Z",
     "start_time": "2025-10-29T12:47:38.042217Z"
    }
   },
   "cell_type": "code",
   "source": "post.values()",
   "id": "c6aa253209314ba1",
   "outputs": [
    {
     "data": {
      "text/plain": [
       "dict_values([123456, 'user95', 'Having such a great time here in Italy!', 30])"
      ]
     },
     "execution_count": 4,
     "metadata": {},
     "output_type": "execute_result"
    }
   ],
   "execution_count": 4
  },
  {
   "metadata": {
    "ExecuteTime": {
     "end_time": "2025-10-27T12:23:10.926789Z",
     "start_time": "2025-10-27T12:23:10.921927Z"
    }
   },
   "cell_type": "code",
   "source": [
    "#Zugriff auf einzelne Einträge\n",
    "post['creator']"
   ],
   "id": "4f4e90074e846645",
   "outputs": [
    {
     "data": {
      "text/plain": [
       "'user95'"
      ]
     },
     "execution_count": 5,
     "metadata": {},
     "output_type": "execute_result"
    }
   ],
   "execution_count": 5
  },
  {
   "metadata": {
    "ExecuteTime": {
     "end_time": "2025-10-29T12:47:53.602791Z",
     "start_time": "2025-10-29T12:47:53.599938Z"
    }
   },
   "cell_type": "code",
   "source": [
    "#Hinzufügen neuer Werte\n",
    "post['toxicity_score'] =  0.3"
   ],
   "id": "c70cf1bb3b88d132",
   "outputs": [],
   "execution_count": 5
  },
  {
   "metadata": {
    "ExecuteTime": {
     "end_time": "2025-10-29T12:48:26.591816Z",
     "start_time": "2025-10-29T12:48:26.588686Z"
    }
   },
   "cell_type": "code",
   "source": [
    "#nochmal keys und values anschauen\n",
    "post.keys()\n",
    "post.values()"
   ],
   "id": "33882a7453daab60",
   "outputs": [
    {
     "data": {
      "text/plain": [
       "dict_values([123456, 'user95', 'Having such a great time here in Italy!', 30, 0.3])"
      ]
     },
     "execution_count": 7,
     "metadata": {},
     "output_type": "execute_result"
    }
   ],
   "execution_count": 7
  },
  {
   "metadata": {},
   "cell_type": "markdown",
   "source": [
    "13. Coding Style\n",
    "\n",
    "Für Python hat sich PEP8 als Style-Guide entwickelt. Dieser beinhaltet u.a. die folgenden Best Practices - diese haben keinen Einfluss auf die Funktionalität des Codes, aber Sie verbessern damit die Lesbarkeit Ihres Codes, für sich selbst und für andere:\n",
    "\n",
    "Nutzen Sie 4-Leerzeichen zur Einrückung, nicht den Tabulator.\n",
    "Code-Zeilen sollten nicht länger als 79 Zeichen sein (die meisten IDEs zeigen es an, wenn eine Zeile zu lang ist.)\n",
    "Nutzen Sie Leerzeichen, um Funktionen, Klassen und größere Code-Blöcke innerhalb von Funktionen abzusetzen.\n",
    "Wenn möglich, sollten Kommentare in einer eigenen Zeile stehen.\n",
    "Verwenden Sie Docstrings.\n",
    "Verwenden Sie Leerzeichen rund um Operatoren und nach Kommata, aber nicht direkt nach einer Klammer:  a = f(1, 2) + g(3, 4)\n",
    "Benennen Sie Klassen und Funktionen einheitlich; üblich sind UpperCamelCase für Klassen und lowercase_with_underscores for für Funktionen."
   ],
   "id": "eccf8669135c8fd1"
  },
  {
   "metadata": {
    "ExecuteTime": {
     "end_time": "2025-10-29T12:59:09.376628Z",
     "start_time": "2025-10-29T12:59:09.373575Z"
    }
   },
   "cell_type": "code",
   "source": [
    "#14. Arbeiten mit Strings\n",
    "#Strings verhalten sich wie Listen\n",
    "word = \"Python\"\n",
    "\n",
    "print(word[0]) #erstes Zeichen\n",
    "print(word[-1]) # letztes Zeichen\n",
    "print(word[0:4]) #zeichen von 0 bis 4\n",
    "print(word[2:]) #ab Index 2 bis Ende\n",
    "print(word) # ganzes wort\n",
    "print(word[0::]) #ganzes wort"
   ],
   "id": "afd7b31feb22510b",
   "outputs": [
    {
     "name": "stdout",
     "output_type": "stream",
     "text": [
      "P\n",
      "n\n",
      "Pyth\n",
      "thon\n",
      "Python\n",
      "Python\n"
     ]
    }
   ],
   "execution_count": 15
  },
  {
   "metadata": {
    "ExecuteTime": {
     "end_time": "2025-10-29T13:27:59.335664Z",
     "start_time": "2025-10-29T13:27:59.333735Z"
    }
   },
   "cell_type": "code",
   "source": [
    "#Aufgabe 14.1:\n",
    "satz= \"Maschinensprache oder Menschensprache, das ist hier die Frage!\"\n",
    "#Verwenden Sie den gegebenen Satz, um folgende Teilaufgaben zu lösen:\n",
    "\n",
    "# Geben Sie die ersten 4 Zeichen aus.\n",
    "print( satz[0:4:])\n",
    "#Geben Sie die letzten 2 Zeichen aus.\n",
    "print (satz[-2::])\n",
    "#Geben Sie den String rückwärts aus.\n",
    "print (satz[::-1])"
   ],
   "id": "3d74bcd4f3b471dc",
   "outputs": [
    {
     "name": "stdout",
     "output_type": "stream",
     "text": [
      "Masc\n",
      "e!\n",
      "!egarF eid reih tsi sad ,ehcarpsnehcsneM redo ehcarpsnenihcsaM\n"
     ]
    }
   ],
   "execution_count": 23
  },
  {
   "metadata": {},
   "cell_type": "code",
   "outputs": [],
   "execution_count": null,
   "source": "",
   "id": "a03253e52e4af9e7"
  },
  {
   "metadata": {},
   "cell_type": "code",
   "outputs": [],
   "execution_count": null,
   "source": [
    "#14.2 Aufgabe:\n",
    "\n",
    "#Ein Palindrom ist ein Wort, das vorwärts und rückwärts gleich ist, z. B. Anna oder Rentner.\n",
    "\n",
    "#Schreiben Sie eine Funktion, die überprüft, ob ein eingegebenes Wort ein Palindrom ist."
   ],
   "id": "4eb8a5e43abcd769"
  },
  {
   "metadata": {},
   "cell_type": "code",
   "outputs": [],
   "execution_count": null,
   "source": "#TODO: lösung:",
   "id": "e84e813da6e98ec4"
  },
  {
   "metadata": {
    "ExecuteTime": {
     "end_time": "2025-10-29T13:31:07.802302Z",
     "start_time": "2025-10-29T13:31:07.799267Z"
    }
   },
   "cell_type": "code",
   "source": [
    "#methode gibt true oder false zurück\n",
    "def ist_palindrom(wort):\n",
    "    return wort == wort[::-1]"
   ],
   "id": "3169a303d00f4552",
   "outputs": [],
   "execution_count": 27
  },
  {
   "metadata": {
    "ExecuteTime": {
     "end_time": "2025-10-29T13:31:45.745470Z",
     "start_time": "2025-10-29T13:31:45.742756Z"
    }
   },
   "cell_type": "code",
   "source": [
    "print(ist_palindrom('Anna'))\n",
    "print(ist_palindrom('anna'))\n",
    "print(ist_palindrom('rentner'))"
   ],
   "id": "117884972ade4c63",
   "outputs": [
    {
     "name": "stdout",
     "output_type": "stream",
     "text": [
      "False\n",
      "True\n",
      "True\n"
     ]
    }
   ],
   "execution_count": 31
  },
  {
   "metadata": {},
   "cell_type": "markdown",
   "source": [
    "Wichtige String-Methoden\n",
    "\n",
    "Python bietet viele eingebaute Methoden, um Strings zu verändern oder zu analysieren.\n",
    "Hier sind einige der wichtigsten:"
   ],
   "id": "7f09ecf5985d8068"
  },
  {
   "metadata": {
    "ExecuteTime": {
     "end_time": "2025-10-29T13:32:37.838409Z",
     "start_time": "2025-10-29T13:32:37.833652Z"
    }
   },
   "cell_type": "code",
   "source": [
    "text = \"   python makes DATA analysis easy  \"\n",
    "\n",
    "print(text.upper())          # alles in Großbuchstaben\n",
    "print(text.lower())          # alles in Kleinbuchstaben\n",
    "print(text.title())          # jedes Wort beginnt mit Großbuchstaben\n",
    "print(text.replace(\"DATA\", \"data\"))  # ersetzt ein Wort\n",
    "print(text.count(\"a\"))       # zählt, wie oft 'a' vorkommt\n",
    "print(text.strip())          # entfernt Leerzeichen am Anfang/Ende"
   ],
   "id": "9eb6f20cafce68dd",
   "outputs": [
    {
     "name": "stdout",
     "output_type": "stream",
     "text": [
      "   PYTHON MAKES DATA ANALYSIS EASY  \n",
      "   python makes data analysis easy  \n",
      "   Python Makes Data Analysis Easy  \n",
      "   python makes data analysis easy  \n",
      "4\n",
      "python makes DATA analysis easy\n"
     ]
    }
   ],
   "execution_count": 32
  },
  {
   "metadata": {
    "ExecuteTime": {
     "end_time": "2025-10-29T13:35:20.522966Z",
     "start_time": "2025-10-29T13:35:20.519636Z"
    }
   },
   "cell_type": "code",
   "source": [
    "#Strings verbinden und wiederholen\n",
    "#Strings können mit + verbunden oder mit * wiederholt werden.\n",
    "\n",
    "name = \"Maryam\"\n",
    "print(\"Hallo,\" + name + \"!\")\n",
    "print(\"Tschö mit ö!\" * 3)"
   ],
   "id": "be05e22b2d48b55c",
   "outputs": [
    {
     "name": "stdout",
     "output_type": "stream",
     "text": [
      "Hallo,Maryam!\n",
      "Tschö mit ö!Tschö mit ö!Tschö mit ö!\n"
     ]
    }
   ],
   "execution_count": 34
  },
  {
   "metadata": {
    "ExecuteTime": {
     "end_time": "2025-10-29T13:37:32.569667Z",
     "start_time": "2025-10-29T13:37:32.565797Z"
    }
   },
   "cell_type": "code",
   "source": [
    "#Strings bereinigen und verarbeiten\n",
    "#Texte enthalten oft unnötige Leerzeichen oder Sonderzeichen.\n",
    "#Mit Methoden wie strip(), split() und join() kann man sie bereinigen oder aufteilen.\n",
    "\n",
    "raw_text = \"   ...Data Science...   \"\n",
    "cleaned_text = raw_text.strip(\" .\") #macht die . weg\n",
    "print(cleaned_text)\n"
   ],
   "id": "12902ed0f619d91c",
   "outputs": [
    {
     "name": "stdout",
     "output_type": "stream",
     "text": [
      "Data Science\n"
     ]
    }
   ],
   "execution_count": 37
  },
  {
   "metadata": {
    "ExecuteTime": {
     "end_time": "2025-10-29T13:38:01.674614Z",
     "start_time": "2025-10-29T13:38:01.672629Z"
    }
   },
   "cell_type": "code",
   "source": [
    "words = cleaned_text.split()\n",
    "print(words)"
   ],
   "id": "8ccf3200b4e3a911",
   "outputs": [
    {
     "name": "stdout",
     "output_type": "stream",
     "text": [
      "['Data', 'Science']\n"
     ]
    }
   ],
   "execution_count": 38
  },
  {
   "metadata": {
    "ExecuteTime": {
     "end_time": "2025-10-29T13:38:15.590376Z",
     "start_time": "2025-10-29T13:38:15.587721Z"
    }
   },
   "cell_type": "code",
   "source": [
    "sentence = \" \".join(words)\n",
    "print(sentence)"
   ],
   "id": "1e6c513e64fae0e2",
   "outputs": [
    {
     "name": "stdout",
     "output_type": "stream",
     "text": [
      "Data Science\n"
     ]
    }
   ],
   "execution_count": 39
  },
  {
   "metadata": {},
   "cell_type": "code",
   "outputs": [],
   "execution_count": null,
   "source": [
    "#14.2 Aufgabe: Der folgende Text enthält viele unnötige Zeichen.\n",
    "#Bereinigen Sie ihn mit Hilfe von String-Methoden.\n",
    "\n",
    "#   Entfernen Sie überflüssige Kommas und Leerzeichen.\n",
    "#  Alle Wörter sollen kleingeschrieben sein.\n",
    "# Teilen Sie den bereinigten Text in Wörter auf.\n",
    "#Fügen Sie die Wörter wieder zu einem sauberen Satz zusammen."
   ],
   "id": "db8cc0bb21e5a1a3"
  },
  {
   "metadata": {
    "ExecuteTime": {
     "end_time": "2025-10-29T13:51:35.308040Z",
     "start_time": "2025-10-29T13:51:35.305191Z"
    }
   },
   "cell_type": "code",
   "source": [
    "text = \"  ,,,Data,Science,,ist,toll!!!   \"\n",
    "# Ihre Lösung:\n",
    "text = text.strip(\" , !\")\n",
    "print(text)\n",
    "text2 = text.replace(',',' ')\n",
    "print(text2)\n",
    "text3 = text2.replace('  ', ' ')\n",
    "print(text3)\n"
   ],
   "id": "a2d2c8da7e031753",
   "outputs": [
    {
     "name": "stdout",
     "output_type": "stream",
     "text": [
      "Data,Science,,ist,toll\n",
      "Data Science  ist toll\n",
      "Data Science ist toll\n"
     ]
    }
   ],
   "execution_count": 52
  },
  {
   "metadata": {},
   "cell_type": "code",
   "outputs": [],
   "execution_count": null,
   "source": "#Wenn Zeit Aufgabe 14.2 nochmal genauer nach Aufgabenbeschreibung machen",
   "id": "b0965a5ecc2f1f64"
  },
  {
   "metadata": {
    "ExecuteTime": {
     "end_time": "2025-10-29T13:53:40.566870Z",
     "start_time": "2025-10-29T13:53:40.563562Z"
    }
   },
   "cell_type": "code",
   "source": [
    "text = \"Python Programmierung\"\n",
    "print(\"Python\" in text)\n",
    "print((\"Java\" not in text))"
   ],
   "id": "12cdcde111984b1f",
   "outputs": [
    {
     "name": "stdout",
     "output_type": "stream",
     "text": [
      "True\n",
      "True\n"
     ]
    }
   ],
   "execution_count": 53
  },
  {
   "metadata": {},
   "cell_type": "code",
   "outputs": [],
   "execution_count": null,
   "source": "#15. Daten einlesen und bearbeiten mit pandas",
   "id": "4c435d05cb1e8158"
  },
  {
   "metadata": {
    "ExecuteTime": {
     "end_time": "2025-10-29T13:58:33.775868Z",
     "start_time": "2025-10-29T13:58:33.773420Z"
    }
   },
   "cell_type": "code",
   "source": [
    "# Alternativ zur oben beschriebenen Installation von pandas über das Terminal\n",
    "#%pip install pandas\n",
    "\n",
    "## pandas importieren, um es nutzen zu können\n",
    "#import pandas as pd"
   ],
   "id": "cc00334a0b8e62a",
   "outputs": [],
   "execution_count": 57
  },
  {
   "metadata": {
    "ExecuteTime": {
     "end_time": "2025-10-29T13:58:52.942742Z",
     "start_time": "2025-10-29T13:58:52.939619Z"
    }
   },
   "cell_type": "code",
   "source": [
    "# Funktion, um Text zu bereinigen und zu tokenisieren\n",
    "def clean_and_tokenize(text):\n",
    "    cleaned_text = text.replace('?', ' ').strip()\n",
    "    cleaned_text = cleaned_text.lower().split()\n",
    "    return cleaned_text\n"
   ],
   "id": "ab5f21a0349ac649",
   "outputs": [],
   "execution_count": 58
  },
  {
   "metadata": {
    "ExecuteTime": {
     "end_time": "2025-10-29T14:26:36.237792Z",
     "start_time": "2025-10-29T14:26:36.221641Z"
    }
   },
   "cell_type": "code",
   "source": [
    "# Beispieldaten erzeugen\n",
    "faq_data = {\n",
    "    'id': [1,2,3,4,5,6,7,8],\n",
    "    'question': [\n",
    "        'Wie kann ich mein Passwort zurücksetzen?',\n",
    "        'Wo finde ich meine Bestellhistorie?',\n",
    "        'Wie kann ich meine Lieferadresse ändern?',\n",
    "        'Wie kontaktiere ich den Kundendienst?',\n",
    "        'Welche Zahlungsmethoden werden akzeptiert?',\n",
    "        'Wie kann ich meine Bestellung stornieren?',\n",
    "        'Wie lange dauert der Versand?',\n",
    "        'Kann ich Artikel nach der Bestellung noch ändern?'\n",
    "    ]\n",
    "}\n",
    "# Dataframe aus Daten erzeugen\n",
    "import pandas as pd\n",
    "df = pd.DataFrame(faq_data)\n",
    "\n",
    "# Neue Spalte 'tokens' erzeugen und weitere Spalten für die Aufgabe 15.1\n",
    "# Text aus der Spalte 'question' bereinigen und tokenisieren\n",
    "df['tokens'] = df['question'].apply(clean_and_tokenize)\n",
    "# Anzahl Tokens\n",
    "df['token_count'] = df['tokens'].apply(len)\n",
    "# Sortierte Tokens\n",
    "df['tokens_sorted'] = df['tokens'].apply(lambda toks: sorted(toks))\n",
    "\n",
    "# Die ersten fünf rows des DataFrames anzeigen\n",
    "print(df.head())\n",
    "\n",
    "# Dataframe als CSV speichern (sicherer Pfad: local 'data/' Ordner)\n",
    "import os\n",
    "os.makedirs('data', exist_ok=True)\n",
    "csv_path = 'data/faq_cleaned.csv'\n",
    "df.to_csv(csv_path, index=False)\n",
    "print(f\"CSV gespeichert: {csv_path}\")\n"
   ],
   "id": "6ba2596765974fa0",
   "outputs": [
    {
     "name": "stdout",
     "output_type": "stream",
     "text": [
      "   id                                    question  \\\n",
      "0   1    Wie kann ich mein Passwort zurücksetzen?   \n",
      "1   2         Wo finde ich meine Bestellhistorie?   \n",
      "2   3    Wie kann ich meine Lieferadresse ändern?   \n",
      "3   4       Wie kontaktiere ich den Kundendienst?   \n",
      "4   5  Welche Zahlungsmethoden werden akzeptiert?   \n",
      "\n",
      "                                           tokens  token_count  \\\n",
      "0  [wie, kann, ich, mein, passwort, zurücksetzen]            6   \n",
      "1        [wo, finde, ich, meine, bestellhistorie]            5   \n",
      "2  [wie, kann, ich, meine, lieferadresse, ändern]            6   \n",
      "3      [wie, kontaktiere, ich, den, kundendienst]            5   \n",
      "4  [welche, zahlungsmethoden, werden, akzeptiert]            4   \n",
      "\n",
      "                                    tokens_sorted  \n",
      "0  [ich, kann, mein, passwort, wie, zurücksetzen]  \n",
      "1        [bestellhistorie, finde, ich, meine, wo]  \n",
      "2  [ich, kann, lieferadresse, meine, wie, ändern]  \n",
      "3      [den, ich, kontaktiere, kundendienst, wie]  \n",
      "4  [akzeptiert, welche, werden, zahlungsmethoden]  \n",
      "CSV gespeichert: data/faq_cleaned.csv\n"
     ]
    }
   ],
   "execution_count": 64
  },
  {
   "metadata": {
    "ExecuteTime": {
     "end_time": "2025-10-29T14:27:07.001450Z",
     "start_time": "2025-10-29T14:27:06.993536Z"
    }
   },
   "cell_type": "code",
   "source": [
    "# Daten wieder einlesen und Tokens-Spalte korrekt zurückkonvertieren (falls benötigt)\n",
    "import ast\n",
    "\n",
    "df_read = pd.read_csv(csv_path)\n",
    "# Wenn 'tokens' als String gespeichert wurde, in Liste zurückkonvertieren\n",
    "try:\n",
    "    df_read['tokens'] = df_read['tokens'].apply(ast.literal_eval)\n",
    "except Exception:\n",
    "    # falls tokens bereits als Liste vorliegt oder nicht evalbar ist, belassen\n",
    "    pass\n",
    "# Berechne token_count und tokens_sorted erneut, falls benötigt\n",
    "if 'token_count' not in df_read.columns:\n",
    "    df_read['token_count'] = df_read['tokens'].apply(len)\n",
    "if 'tokens_sorted' not in df_read.columns:\n",
    "    df_read['tokens_sorted'] = df_read['tokens'].apply(lambda toks: sorted(toks))\n",
    "\n",
    "print(df_read[['id','token_count','tokens_sorted']].head())\n"
   ],
   "id": "e428961afdf23eb7",
   "outputs": [
    {
     "name": "stdout",
     "output_type": "stream",
     "text": [
      "   id  token_count                                      tokens_sorted\n",
      "0   1            6  ['ich', 'kann', 'mein', 'passwort', 'wie', 'zu...\n",
      "1   2            5  ['bestellhistorie', 'finde', 'ich', 'meine', '...\n",
      "2   3            6  ['ich', 'kann', 'lieferadresse', 'meine', 'wie...\n",
      "3   4            5  ['den', 'ich', 'kontaktiere', 'kundendienst', ...\n",
      "4   5            4  ['akzeptiert', 'welche', 'werden', 'zahlungsme...\n"
     ]
    }
   ],
   "execution_count": 65
  },
  {
   "metadata": {},
   "cell_type": "code",
   "outputs": [],
   "execution_count": null,
   "source": "",
   "id": "51e0394704e33b80"
  },
  {
   "metadata": {},
   "cell_type": "markdown",
   "source": [
    "\n",
    "Weiterführende Ressourcen\n",
    "\n",
    "    http://www.python.org - Offizielle Python Webseite.\n",
    "    http://www.python.org/dev/peps/pep-0008 - PEP8 Pythonn Styleguide.\n",
    "    http://www.greenteapress.com/thinkpython/ - Frei zugängliche Python Einführung.\n",
    "    https://www.w3schools.com/python/default.asp - W3 School Python Tutorial.\n",
    "\n"
   ],
   "id": "1dac36b412715ec0"
  }
 ],
 "metadata": {
  "kernelspec": {
   "display_name": "Python 3",
   "language": "python",
   "name": "python3"
  },
  "language_info": {
   "codemirror_mode": {
    "name": "ipython",
    "version": 2
   },
   "file_extension": ".py",
   "mimetype": "text/x-python",
   "name": "python",
   "nbconvert_exporter": "python",
   "pygments_lexer": "ipython2",
   "version": "2.7.6"
  }
 },
 "nbformat": 4,
 "nbformat_minor": 5
}

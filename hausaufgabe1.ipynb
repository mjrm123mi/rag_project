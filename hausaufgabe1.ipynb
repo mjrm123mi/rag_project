{
 "cells": [
  {
   "cell_type": "code",
   "execution_count": 1,
   "id": "403b1aca-92fb-4779-bb66-429cf689ca48",
   "metadata": {
    "scrolled": true
   },
   "outputs": [
    {
     "name": "stdout",
     "output_type": "stream",
     "text": [
      "Hello world, I am coding in Python!\n"
     ]
    }
   ],
   "source": [
    "# Hello world\n",
    "print(\"Hello world, I am coding in Python!\")"
   ]
  },
  {
   "cell_type": "code",
   "execution_count": 8,
   "id": "1c1fea52-bef3-4a76-9f0c-71a7e3942729",
   "metadata": {},
   "outputs": [],
   "source": [
    "# Working with a list of text entries\n",
    "knowledge_base = [\n",
    "{\"id\": 1, \"text\": \"Ada Lovelace is considered the first computer programmer for her work on Charles Babbage's Analytical Engine.\"},\n",
    "{\"id\": 2, \"text\": \"Grace Hopper was a pioneer in computer programming and developed the first compiler for a computer programming language.\"},\n",
    "{\"id\": 3, \"text\": \"Katherine Johnson was a mathematician whose calculations of orbital mechanics were critical to the success of NASA's space missions.\"},\n",
    "{\"id\": 4, \"text\": \"Radia Perlman is known as the 'Mother of the Internet' for her invention of the spanning-tree protocol (STP) that made modern Ethernet networks possible.\"},\n",
    "{\"id\": 5, \"text\": \"Barbara Liskov is a computer scientist recognized for her work in programming languages and system design, including the Liskov Substitution Principle.\"}\n",
    "]"
   ]
  },
  {
   "cell_type": "code",
   "execution_count": null,
   "id": "686233f2-1b76-4989-9ebc-2411ce0bbd17",
   "metadata": {},
   "outputs": [],
   "source": [
    "# Print all entires\n",
    "for entry in knowledge_base:\n",
    "print(f\"{entry['id']}: {entry['text']}\")"
   ]
  }
 ],
 "metadata": {
  "kernelspec": {
   "display_name": "Python 3 (ipykernel)",
   "language": "python",
   "name": "python3"
  },
  "language_info": {
   "codemirror_mode": {
    "name": "ipython",
    "version": 3
   },
   "file_extension": ".py",
   "mimetype": "text/x-python",
   "name": "python",
   "nbconvert_exporter": "python",
   "pygments_lexer": "ipython3",
   "version": "3.13.0"
  }
 },
 "nbformat": 4,
 "nbformat_minor": 5
}
